{
  "nbformat": 4,
  "nbformat_minor": 0,
  "metadata": {
    "colab": {
      "provenance": []
    },
    "kernelspec": {
      "name": "python3",
      "display_name": "Python 3"
    },
    "language_info": {
      "name": "python"
    }
  },
  "cells": [
    {
      "cell_type": "code",
      "execution_count": 2,
      "metadata": {
        "id": "UsaSmnpO52ZB"
      },
      "outputs": [],
      "source": [
        "import numpy as np\n",
        "import matplotlib.pyplot as plt"
      ]
    },
    {
      "cell_type": "code",
      "source": [
        "x = np.array([5,10,15,20,25,30,45,60])\n",
        "y = np.array([16.3,9.7,8.1,4.2,3.4,2.9,1.9,1.3])"
      ],
      "metadata": {
        "id": "hqAhVEcx6D-5"
      },
      "execution_count": 3,
      "outputs": []
    },
    {
      "cell_type": "code",
      "source": [
        "def regresion(x, y, alpha, z, tipo):\n",
        "  if tipo == 'Potencia':\n",
        "    x = np.log(x)\n",
        "    y = np.log(y)\n",
        "    n = np.size(x)\n",
        "    sum_xy = np.sum(x * y)\n",
        "    sum_x = np.sum(x)\n",
        "    sum_y = np.sum(y)\n",
        "    sum_x2 = np.sum(x ** 2)\n",
        "    # print('sum_x2 es', sum_x2)\n",
        "    x_barra = np.sum(x) / n\n",
        "    # print('x_barra es', x_barra)\n",
        "    y_barra = np.sum(y) / n\n",
        "    SXY = sum_xy - (sum_y * sum(x)) / (n)\n",
        "    SXX = sum_x2 - (sum_x ** 2) / (n)\n",
        "    # print('SXY es', SXY)\n",
        "    # print('SXX es', SXX)\n",
        "\n",
        "    # coeficientes y recta\n",
        "    B1 = SXY / SXX\n",
        "    B0 = y_barra - B1 * x_barra\n",
        "    y_estimados = B0 + B1 * x  # grafica\n",
        "    print(\"Mi recta de regresion es\", B0, '+', B1, 'x')\n",
        "    print('B0 es', B0, 'y B1 es', B1)\n",
        "\n",
        "    y_estimado = np.exp(B0 + B1 * np.log(z))\n",
        "    print('y estimado es', y_estimado)\n",
        "\n",
        "  elif tipo == 'Exponencial':\n",
        "    y = np.log(y)\n",
        "    n = np.size(x)\n",
        "    sum_xy = np.sum(x * y)\n",
        "    sum_x = np.sum(x)\n",
        "    sum_y = np.sum(y)\n",
        "    sum_x2 = np.sum(x ** 2)\n",
        "    # print('sum_x2 es', sum_x2)\n",
        "    x_barra = np.sum(x) / n\n",
        "    # print('x_barra es', x_barra)\n",
        "    y_barra = np.sum(y) / n\n",
        "    SXY = sum_xy - (sum_y * sum(x)) / (n)\n",
        "    SXX = sum_x2 - (sum_x ** 2) / (n)\n",
        "    # print('SXY es', SXY)\n",
        "    # print('SXX es', SXX)\n",
        "\n",
        "    # coeficientes y recta\n",
        "    B1 = SXY / SXX\n",
        "    B0 = y_barra - B1 * x_barra\n",
        "    y_estimados = B0 + B1 * x  # grafica\n",
        "    print(\"Mi recta de regresion es\", B0, '+', B1, 'x')\n",
        "    print('B0 es', B0, 'y B1 es', B1)\n",
        "\n",
        "    y_estimado = np.exp(B0 + B1 * np.log(z))\n",
        "    print('y estimado es', y_estimado)\n",
        "\n",
        "  elif tipo == 'Logaritmica':\n",
        "    x = np.log(x)\n",
        "    n = np.size(x)\n",
        "    sum_xy = np.sum(x * y)\n",
        "    sum_x = np.sum(x)\n",
        "    sum_y = np.sum(y)\n",
        "    sum_x2 = np.sum(x ** 2)\n",
        "    # print('sum_x2 es', sum_x2)\n",
        "    x_barra = np.sum(x) / n\n",
        "    # print('x_barra es', x_barra)\n",
        "    y_barra = np.sum(y) / n\n",
        "    SXY = sum_xy - (sum_y * sum(x)) / (n)\n",
        "    SXX = sum_x2 - (sum_x ** 2) / (n)\n",
        "    # print('SXY es', SXY)\n",
        "    # print('SXX es', SXX)\n",
        "\n",
        "    # coeficientes y recta\n",
        "    B1 = SXY / SXX\n",
        "    B0 = y_barra - B1 * x_barra\n",
        "    y_estimados = B0 + B1 * x  # grafica\n",
        "    print(\"Mi recta de regresion es\", B0, '+', B1, 'x')\n",
        "    print('B0 es', B0, 'y B1 es', B1)\n",
        "\n",
        "    y_estimado = np.exp(B0 + B1 * np.log(z))\n",
        "    print('y estimado es', y_estimado)\n",
        "\n",
        "  elif tipo == 'Reciproca':\n",
        "    x = 1/x\n",
        "    n = np.size(x)\n",
        "    sum_xy = np.sum(x * y)\n",
        "    sum_x = np.sum(x)\n",
        "    sum_y = np.sum(y)\n",
        "    sum_x2 = np.sum(x ** 2)\n",
        "    # print('sum_x2 es', sum_x2)\n",
        "    x_barra = np.sum(x) / n\n",
        "    # print('x_barra es', x_barra)\n",
        "    y_barra = np.sum(y) / n\n",
        "    SXY = sum_xy - (sum_y * sum(x)) / (n)\n",
        "    SXX = sum_x2 - (sum_x ** 2) / (n)\n",
        "    # print('SXY es', SXY)\n",
        "    # print('SXX es', SXX)\n",
        "\n",
        "    # coeficientes y recta\n",
        "    B1 = SXY / SXX\n",
        "    B0 = y_barra - B1 * x_barra\n",
        "    y_estimados = B0 + B1 * x  # grafica\n",
        "    print(\"Mi recta de regresion es\", B0, '+', B1, 'x')\n",
        "    print('B0 es', B0, 'y B1 es', B1)\n",
        "\n",
        "    y_estimado = np.exp(B0 + B1 * np.log(z))\n",
        "    print('y estimado es', y_estimado)\n",
        "\n",
        "  return B0, B1, y_estimados, y_estimado\n"
      ],
      "metadata": {
        "id": "L3XBi_bp_x8W"
      },
      "execution_count": 4,
      "outputs": []
    },
    {
      "cell_type": "code",
      "source": [
        "plt.plot(x,y,'o')"
      ],
      "metadata": {
        "colab": {
          "base_uri": "https://localhost:8080/",
          "height": 447
        },
        "id": "KPLqUX-16oxP",
        "outputId": "1175a353-4098-40dc-9313-f8453f6970a5"
      },
      "execution_count": 5,
      "outputs": [
        {
          "output_type": "execute_result",
          "data": {
            "text/plain": [
              "[<matplotlib.lines.Line2D at 0x7d79b1192a10>]"
            ]
          },
          "metadata": {},
          "execution_count": 5
        },
        {
          "output_type": "display_data",
          "data": {
            "text/plain": [
              "<Figure size 640x480 with 1 Axes>"
            ],
            "image/png": "[encoded data removed]"
          },
          "metadata": {}
        }
      ]
    },
    {
      "cell_type": "code",
      "source": [
        "xlog = np.log(x)\n",
        "ylog = np.log(y)"
      ],
      "metadata": {
        "id": "8SazesFWLG9P"
      },
      "execution_count": 6,
      "outputs": []
    },
    {
      "cell_type": "code",
      "source": [
        "plt.scatter(xlog,ylog)"
      ],
      "metadata": {
        "colab": {
          "base_uri": "https://localhost:8080/",
          "height": 447
        },
        "id": "RQTcV1oV6W3n",
        "outputId": "0795ebb4-ab8e-4bec-a814-4e15f9e7879c"
      },
      "execution_count": 7,
      "outputs": [
        {
          "output_type": "execute_result",
          "data": {
            "text/plain": [
              "<matplotlib.collections.PathCollection at 0x7d79b051e790>"
            ]
          },
          "metadata": {},
          "execution_count": 7
        },
        {
          "output_type": "display_data",
          "data": {
            "text/plain": [
              "<Figure size 640x480 with 1 Axes>"
            ],
            "image/png": "[encoded data removed]"
          },
          "metadata": {}
        }
      ]
    },
    {
      "cell_type": "code",
      "source": [
        "#@title Potencia\n",
        "B0,B1,y_estimados, y_estimado = regresion(x,y,0.05,20, 'Potencia')\n",
        "print('y estimados: ', y_estimados)"
      ],
      "metadata": {
        "id": "lUOzoE1H_30F",
        "outputId": "f60d3e13-4dc7-4422-8422-e188fc523604",
        "colab": {
          "base_uri": "https://localhost:8080/"
        }
      },
      "execution_count": 8,
      "outputs": [
        {
          "output_type": "stream",
          "name": "stdout",
          "text": [
            "Mi recta de regresion es 4.6384148838499994 + -1.049198121311453 x\n",
            "B0 es 4.6384148838499994 y B1 es -1.049198121311453\n",
            "y estimado es 4.460666572067298\n",
            "y estimados:  [2.94979565 2.22254693 1.7971337  1.49529821 1.26117642 1.06988498\n",
            " 0.64447175 0.34263626]\n"
          ]
        }
      ]
    },
    {
      "cell_type": "code",
      "source": [
        "#@title Exponencial\n",
        "B0,B1,y_estimados, y_estimado = regresion(x,y,0.05,20, 'Exponencial')\n",
        "print('y estimados: ', y_estimados)"
      ],
      "metadata": {
        "cellView": "form",
        "id": "UEpg7qMMLMtg",
        "outputId": "20372689-2746-4d97-94b0-af1afa356b3d",
        "colab": {
          "base_uri": "https://localhost:8080/"
        }
      },
      "execution_count": 9,
      "outputs": [
        {
          "output_type": "stream",
          "name": "stdout",
          "text": [
            "Mi recta de regresion es 2.6315463176668175 + -0.04414012686566828 x\n",
            "B0 es 2.6315463176668175 y B1 es -0.04414012686566828\n",
            "y estimado es 12.174143471250781\n",
            "y estimados:  [ 2.41084568  2.19014505  1.96944441  1.74874378  1.52804315  1.30734251\n",
            "  0.64524061 -0.01686129]\n"
          ]
        }
      ]
    },
    {
      "cell_type": "code",
      "source": [
        "#@title Logaritmica\n",
        "B0,B1,y_estimados, y_estimado = regresion(x,y,0.05,20, 'Logaritmica')\n",
        "print('y estimados: ', y_estimados)"
      ],
      "metadata": {
        "cellView": "form",
        "id": "vEiENiCWLNE0",
        "outputId": "99760abf-f8a9-4ee3-e1ec-872af54fc704",
        "colab": {
          "base_uri": "https://localhost:8080/"
        }
      },
      "execution_count": 10,
      "outputs": [
        {
          "output_type": "stream",
          "name": "stdout",
          "text": [
            "Mi recta de regresion es 24.34761624432857 + -6.0894736606194195 x\n",
            "B0 es 24.34761624432857 y B1 es -6.0894736606194195\n",
            "y estimado es 448.1748606682896\n",
            "y estimados:  [14.54698647 10.32608497  7.85701587  6.10518347  4.74635669  3.63611437\n",
            "  1.16704528 -0.58478712]\n"
          ]
        }
      ]
    },
    {
      "cell_type": "code",
      "source": [
        "#@title Reciproca\n",
        "B0,B1,y_estimados, y_estimado = regresion(x,y,0.05,20, 'Reciproca')\n",
        "print('y estimados: ', y_estimados)"
      ],
      "metadata": {
        "cellView": "form",
        "id": "-GCZG_EjLNZH",
        "outputId": "d7d3db12-e9e6-4149-84bc-805cc83f57e2",
        "colab": {
          "base_uri": "https://localhost:8080/"
        }
      },
      "execution_count": 11,
      "outputs": [
        {
          "output_type": "stream",
          "name": "stdout",
          "text": [
            "Mi recta de regresion es 0.47967416602016844 + 83.12257564003104 x\n",
            "B0 es 0.47967416602016844 y B1 es 83.12257564003104\n",
            "y estimado es 2.2557141711799017e+108\n",
            "y estimados:  [17.10418929  8.79193173  6.02117921  4.63580295  3.80457719  3.25042669\n",
            "  2.32684251  1.86505043]\n"
          ]
        }
      ]
    },
    {
      "cell_type": "code",
      "source": [
        "#y = ae^bx\n",
        "# x = np.array([5,10,15,20,25,30])\n",
        "# y  = np.array([200,250,320,430,600,850])"
      ],
      "metadata": {
        "id": "w4KJIiA0A7Z4"
      },
      "execution_count": 12,
      "outputs": []
    },
    {
      "cell_type": "code",
      "source": [
        "x = np.array([1.7,2.2,2.3,2.6,2.7,3.0,3.2,3.3,4.1,4.3,4.6,5.7,6.1])\n",
        "y = np.array([1.3,1.8,1.6,2.0,2.1,2.2,3.0,2.6,4.1,3.7,5.0,5.8,5.3])"
      ],
      "metadata": {
        "id": "hz5_9fynAAGd"
      },
      "execution_count": 13,
      "outputs": []
    },
    {
      "cell_type": "code",
      "source": [
        "x.shape\n"
      ],
      "metadata": {
        "id": "RMEl5sR7DdC7",
        "outputId": "905d06df-53e7-4566-9aa2-b6c32d23be10",
        "colab": {
          "base_uri": "https://localhost:8080/"
        }
      },
      "execution_count": 35,
      "outputs": [
        {
          "output_type": "execute_result",
          "data": {
            "text/plain": [
              "(13,)"
            ]
          },
          "metadata": {},
          "execution_count": 35
        }
      ]
    },
    {
      "cell_type": "code",
      "source": [
        "y.shape"
      ],
      "metadata": {
        "id": "LkVSFubeDnIE",
        "outputId": "70850775-8023-43d3-8bcd-ce11f9931b43",
        "colab": {
          "base_uri": "https://localhost:8080/"
        }
      },
      "execution_count": 36,
      "outputs": [
        {
          "output_type": "execute_result",
          "data": {
            "text/plain": [
              "(13,)"
            ]
          },
          "metadata": {},
          "execution_count": 36
        }
      ]
    },
    {
      "cell_type": "code",
      "source": [
        "B0,B1,y_estimados, y_estimado = regresion(x,y,0.05,20, 'Potencia')"
      ],
      "metadata": {
        "id": "9Yhnc5-fDoRr",
        "outputId": "d4a7b924-108f-4f89-efdd-e4401cf05345",
        "colab": {
          "base_uri": "https://localhost:8080/"
        }
      },
      "execution_count": 37,
      "outputs": [
        {
          "output_type": "stream",
          "name": "stdout",
          "text": [
            "Mi recta de regresion es -0.4676194453983076 + 1.2535562199105905 x\n",
            "B0 es -0.4676194453983076 y B1 es 1.2535562199105905\n",
            "y estimado es 26.781179391438304\n"
          ]
        }
      ]
    },
    {
      "cell_type": "code",
      "source": [
        "plt.scatter(np.log(x),np.log(y))\n",
        "plt.plot(np.log(x),y_estimados)\n",
        "plt.show()"
      ],
      "metadata": {
        "id": "XptcyeQiD3Wc",
        "outputId": "f8584abb-db6d-44cb-c1a4-89699ba7a100",
        "colab": {
          "base_uri": "https://localhost:8080/",
          "height": 430
        }
      },
      "execution_count": 41,
      "outputs": [
        {
          "output_type": "display_data",
          "data": {
            "text/plain": [
              "<Figure size 640x480 with 1 Axes>"
            ],
            "image/png": "[encoded data removed]"
          },
          "metadata": {}
        }
      ]
    }
  ]
}