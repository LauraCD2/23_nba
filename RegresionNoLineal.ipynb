{
  "nbformat": 4,
  "nbformat_minor": 0,
  "metadata": {
    "colab": {
      "provenance": []
    },
    "kernelspec": {
      "name": "python3",
      "display_name": "Python 3"
    },
    "language_info": {
      "name": "python"
    }
  },
  "cells": [
    {
      "cell_type": "code",
      "execution_count": 2,
      "metadata": {
        "id": "UsaSmnpO52ZB"
      },
      "outputs": [],
      "source": [
        "import numpy as np\n",
        "import matplotlib.pyplot as plt"
      ]
    },
    {
      "cell_type": "code",
      "source": [
        "x = np.array([5,10,15,20,25,30,45,60])\n",
        "y = np.array([16.3,9.7,8.1,4.2,3.4,2.9,1.9,1.3])"
      ],
      "metadata": {
        "id": "hqAhVEcx6D-5"
      },
      "execution_count": 3,
      "outputs": []
    },
    {
      "cell_type": "code",
      "source": [
        "def regresion(x, y, alpha, z):\n",
        "  x = np.log(x)\n",
        "  y = np.log(y)\n",
        "  n = np.size(x)\n",
        "  sum_xy = np.sum(x * y)\n",
        "  sum_x = np.sum(x)\n",
        "  sum_y = np.sum(y)\n",
        "  sum_x2 = np.sum(x ** 2)\n",
        "  # print('sum_x2 es', sum_x2)\n",
        "  x_barra = np.sum(x) / n\n",
        "  # print('x_barra es', x_barra)\n",
        "  y_barra = np.sum(y) / n\n",
        "  SXY = sum_xy - (sum_y * sum(x)) / (n)\n",
        "  SXX = sum_x2 - (sum_x ** 2) / (n)\n",
        "  # print('SXY es', SXY)\n",
        "  # print('SXX es', SXX)\n",
        "\n",
        "  # coeficientes y recta\n",
        "  B1 = SXY / SXX\n",
        "  B0 = y_barra - B1 * x_barra\n",
        "  y_estimados = B0 + B1 * x  # grafica\n",
        "  print(\"Mi recta de regresion es\", B0, '+', B1, 'x')\n",
        "  print('B0 es', B0, 'y B1 es', B1)\n",
        "\n",
        "\n",
        "  y_estimado = np.exp(B0 + B1 * np.log(z))\n",
        "  print('y estimado es', y_estimado)\n",
        "\n",
        "  return B0, B1, y_estimados, y_estimado"
      ],
      "metadata": {
        "id": "L3XBi_bp_x8W"
      },
      "execution_count": 22,
      "outputs": []
    },
    {
      "cell_type": "code",
      "source": [
        "plt.plot(x,y,'o')"
      ],
      "metadata": {
        "colab": {
          "base_uri": "https://localhost:8080/",
          "height": 447
        },
        "id": "KPLqUX-16oxP",
        "outputId": "c28fb41e-e381-48e2-c79f-3d969c70bf6b"
      },
      "execution_count": 10,
      "outputs": [
        {
          "output_type": "execute_result",
          "data": {
            "text/plain": [
              "[<matplotlib.lines.Line2D at 0x7f93fa9af090>]"
            ]
          },
          "metadata": {},
          "execution_count": 10
        },
        {
          "output_type": "display_data",
          "data": {
            "text/plain": [
              "<Figure size 640x480 with 1 Axes>"
            ],
            "image/png": "[encoded data removed]"
          },
          "metadata": {}
        }
      ]
    },
    {
      "cell_type": "code",
      "source": [
        "plt.scatter(xlog,ylog)"
      ],
      "metadata": {
        "colab": {
          "base_uri": "https://localhost:8080/",
          "height": 447
        },
        "id": "RQTcV1oV6W3n",
        "outputId": "90421174-1976-400d-aeaa-6ac52a0d012a"
      },
      "execution_count": 11,
      "outputs": [
        {
          "output_type": "execute_result",
          "data": {
            "text/plain": [
              "<matplotlib.collections.PathCollection at 0x7f93f8709cd0>"
            ]
          },
          "metadata": {},
          "execution_count": 11
        },
        {
          "output_type": "display_data",
          "data": {
            "text/plain": [
              "<Figure size 640x480 with 1 Axes>"
            ],
            "image/png": "[encoded data removed]"
          },
          "metadata": {}
        }
      ]
    },
    {
      "cell_type": "code",
      "source": [
        "xlog = np.log(x)\n",
        "ylog = np.log(y)"
      ],
      "metadata": {
        "id": "Xm0QGakj6RKv"
      },
      "execution_count": 12,
      "outputs": []
    },
    {
      "cell_type": "code",
      "source": [
        "B0,B1,y_estimados, y_estimado = regresion(x,y,0.05,20)"
      ],
      "metadata": {
        "id": "lUOzoE1H_30F",
        "outputId": "757419df-c10b-47ce-d3bf-5d48159d0f16",
        "colab": {
          "base_uri": "https://localhost:8080/"
        }
      },
      "execution_count": 26,
      "outputs": [
        {
          "output_type": "stream",
          "name": "stdout",
          "text": [
            "Mi recta de regresion es 4.6384148838499994 + -1.049198121311453 x\n",
            "B0 es 4.6384148838499994 y B1 es -1.049198121311453\n",
            "y estimado es 4.460666572067298\n"
          ]
        }
      ]
    },
    {
      "cell_type": "code",
      "source": [
        "y_estimados"
      ],
      "metadata": {
        "id": "jit7X3KwAVON",
        "outputId": "3e1a2c8c-c443-4aa0-9f46-af86c0787893",
        "colab": {
          "base_uri": "https://localhost:8080/"
        }
      },
      "execution_count": 14,
      "outputs": [
        {
          "output_type": "execute_result",
          "data": {
            "text/plain": [
              "array([2.94979565, 2.22254693, 1.7971337 , 1.49529821, 1.26117642,\n",
              "       1.06988498, 0.64447175, 0.34263626])"
            ]
          },
          "metadata": {},
          "execution_count": 14
        }
      ]
    },
    {
      "cell_type": "code",
      "source": [
        "#y = ae^bx\n",
        "x = np.array([5,10,15,20,25,30])\n",
        "y  = np.array([200,250,320,430,600,850])"
      ],
      "metadata": {
        "id": "w4KJIiA0A7Z4"
      },
      "execution_count": null,
      "outputs": []
    }
  ]
}