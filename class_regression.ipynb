{
  "cells": [
    {
      "cell_type": "code",
      "execution_count": null,
      "metadata": {
        "id": "fotWFPbO8KG7"
      },
      "outputs": [],
      "source": [
        "import pandas as pd\n",
        "import seaborn as sns\n",
        "import matplotlib.pyplot as plt\n",
        "import numpy as np\n",
        "from sklearn.linear_model import LinearRegression\n",
        "from scipy.stats import norm\n",
        "from scipy import stats"
      ]
    },
    {
      "cell_type": "code",
      "execution_count": null,
      "metadata": {
        "id": "jJsO__HL8KG8"
      },
      "outputs": [],
      "source": [
        "def regresion(x, y, alpha):\n",
        "  # algunos valores\n",
        "  n = np.size(x)\n",
        "  sum_xy = np.sum(x * y)\n",
        "  sum_x = np.sum(x)\n",
        "  sum_y = np.sum(y)\n",
        "  sum_x2 = np.sum(x ** 2)\n",
        "  print('sum_x2 es', sum_x2)\n",
        "  x_barra = np.sum(x) / n\n",
        "  print('x_barra es', x_barra)\n",
        "  y_barra = np.sum(y) / n\n",
        "  SXY = sum_xy - (sum_y * sum(x)) / (n)\n",
        "  SXX = sum_x2 - (sum_x ** 2) / (n)\n",
        "  print('SXY es', SXY)\n",
        "  print('SXX es', SXX)\n",
        "\n",
        "  # coeficientes y recta\n",
        "  B1 = SXY / SXX\n",
        "  B0 = y_barra - B1 * x_barra\n",
        "  y_estimados = B0 + B1 * x  # grafica\n",
        "  print(\"Mi recta de regresion es\", B0, '+', B1, 'x')\n",
        "  print('B0 es', B0, 'y B1 es', B1)\n",
        "\n",
        "  # Estimación sigma2\n",
        "  SSE = np.sum(y**2) - B0*np.sum(y) - B1*np.sum(x*y)\n",
        "  print('SSE es', SSE)\n",
        "  sigma2 = SSE/(n-2)\n",
        "  print('sigma2 es', sigma2)\n",
        "  sigma = np.sqrt(sigma2)\n",
        "  print('sigma es', sigma)\n",
        "\n",
        "  #parámetros de B0, B1\n",
        "  var_B1 = sigma2 / SXX\n",
        "  print('var_B1 es', var_B1)\n",
        "  var_B0 = (sigma2*sum(x**2)) / (n*SXX)\n",
        "  print('var_B0 es', var_B0)\n",
        "  std_B1 = np.sqrt(var_B1)\n",
        "  print('std_B1 es', std_B1)\n",
        "  std_B0 = np.sqrt(var_B0)\n",
        "  print('std_B0 es', std_B0)\n",
        "  cov_B1B0 = -(x_barra*sigma2)/(n*SXX)\n",
        "  print('cov de B0 y B1 es', cov_B1B0)\n",
        "\n",
        "  #intervalos de confianza\n",
        "  v = n-2\n",
        "  t_medio = stats.t.ppf(1-alpha/2, v)\n",
        "  supB1 = B1 + t_medio*std_B1\n",
        "  infB1 = B1 - t_medio*std_B1\n",
        "  print('La cota superior para B1 es', supB1)\n",
        "  print('La cota inferior para B1 es', infB1)\n",
        "  y_estimadosSup = B0 + supB1*x\n",
        "  y_estimadosInf = B0 + infB1*x\n",
        "\n",
        "\n",
        "  return B0, B1, y_estimados, SSE, sigma2, sigma, SXX, var_B1, var_B0, std_B1, std_B0, cov_B1B0, supB1, infB1, y_estimadosSup, y_estimadosInf\n"
      ]
    },
    {
      "cell_type": "code",
      "source": [
        "\n",
        "try:\n",
        "  x = df[x_column].astype(float)\n",
        "  y = df[y_column].astype(float)\n",
        "\n",
        "  B0, B1, y_estimados, SSE, sigma2, sigma, SXX, var_B1, var_B0, std_B1, std_B0, cov_B1B0, supB1, infB1, y_estimadosSup, y_estimadosInf = regresion(x, y, 0.52)\n",
        "\n",
        "  plt.scatter(x, y, color='blue', label='Data')\n",
        "  plt.plot(x, y_estimados, color='red', label='Regression Line')\n",
        "  plt.xlabel(x_column)\n",
        "  plt.ylabel(y_column)\n",
        "  plt.title('Regresión Lineal\n",
        " {sigma2}')\n",
        "  plt.legend()\n",
        "  plt.show()\n",
        "\n",
        "except KeyError as e:\n",
        "  print(f\"Error: Column not found in DataFrame: {e}\")\n",
        "except Exception as e:\n",
        "  print(f\"Error processing data: {e}\")"
      ],
      "metadata": {
        "id": "yg31Io1T8Opt"
      },
      "execution_count": null,
      "outputs": []
    }
  ],
  "metadata": {
    "kernelspec": {
      "display_name": "mila",
      "language": "python",
      "name": "python3"
    },
    "language_info": {
      "name": "python",
      "version": "3.11.11"
    },
    "colab": {
      "provenance": []
    }
  },
  "nbformat": 4,
  "nbformat_minor": 0
}