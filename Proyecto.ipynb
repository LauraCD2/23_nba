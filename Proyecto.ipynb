{
  "cells": [
    {
      "cell_type": "markdown",
      "metadata": {
        "id": "sb78IB9TOJXV"
      },
      "source": [
        "# Proyecto\n",
        "\n"
      ]
    },
    {
      "cell_type": "markdown",
      "metadata": {
        "id": "82Z3DVFBRhQe"
      },
      "source": [
        "Oscar Miguel Ortega Lozano - 2220528\n",
        "\n",
        "Laura Camila Diaz Delgado - 2220100\n",
        "\n",
        "Juan David Toloza Parada - 222..."
      ]
    },
    {
      "cell_type": "markdown",
      "source": [
        "##Introducción\n",
        "\n",
        "El baloncesto, como uno de los deportes más dinámicos y analíticos del mundo, genera una vasta cantidad de datos que permiten evaluar el rendimiento individual y colectivo de los jugadores. En este proyecto, nos enfocamos en el análisis estadístico de las métricas clave de los jugadores de la NBA durante la temporada regular de 2023, utilizando el dataset 2023_nba_player_stats.csv. Este conjunto de datos abarca variables como puntos anotados (PTS), eficiencia en tiros (FG%, 3P%), rebotes (REB), asistencias (AST), robos (STL), bloqueos (BLK), y otras métricas avanzadas como puntos de fantasía (FP) y diferencial +/-."
      ],
      "metadata": {
        "id": "HLZi2jJOQxcD"
      }
    },
    {
      "cell_type": "code",
      "source": [
        "# prompt: cargar imagen del repositorio de github, ruta: Images/istockphoto-1480105317-612x612.jpg\n",
        "\n",
        "from IPython.display import Image\n",
        "\n",
        "# Replace with your actual GitHub raw image URL\n",
        "image_url = \"https://raw.githubusercontent.com/LauraCD2/estadisticos/blob/main/Images/istockphoto-1480105317-612x612.jpg\"\n",
        "\n",
        "# Display the image\n",
        "Image(url=image_url)\n"
      ],
      "metadata": {
        "id": "SaxyclBNRCCR",
        "outputId": "38f396fd-bdcd-4850-bee1-de9d30192790",
        "colab": {
          "base_uri": "https://localhost:8080/",
          "height": 37
        }
      },
      "execution_count": 6,
      "outputs": [
        {
          "output_type": "execute_result",
          "data": {
            "text/html": [
              "<img src=\"https://raw.githubusercontent.com/LauraCD2/estadisticos/blob/main/Images/istockphoto-1480105317-612x612.jpg\"/>"
            ],
            "text/plain": [
              "<IPython.core.display.Image object>"
            ]
          },
          "metadata": {},
          "execution_count": 6
        }
      ]
    },
    {
      "cell_type": "code",
      "execution_count": null,
      "metadata": {
        "cellView": "form",
        "id": "tL7qsnUkS6f3"
      },
      "outputs": [],
      "source": [
        "#@title Libs\n",
        "import requests\n",
        "import pandas as pd\n",
        "import seaborn as sns\n",
        "import matplotlib.pyplot as plt\n",
        "import numpy as np\n",
        "from sklearn.linear_model import LinearRegression\n",
        "from scipy.stats import norm\n",
        "from scipy import stats\n",
        "from PIL import Image\n",
        "\n",
        "url1 = 'https://raw.githubusercontent.com/LauraCD2/estadisticos/refs/heads/main/Images/playoffs.png'\n",
        "filename1 = 'playoffs.png'\n",
        "response1 = requests.get(url1)\n",
        "with open(filename1, 'wb') as f:\n",
        "    f.write(response1.content)\n",
        "\n",
        "url2 = 'https://raw.githubusercontent.com/LauraCD2/estadisticos/refs/heads/main/Images/llaves.png'\n",
        "filename2 = 'llaves.png'\n",
        "response2 = requests.get(url2)\n",
        "with open(filename2, 'wb') as f:\n",
        "    f.write(response2.content)\n",
        "\n",
        "url3 = 'https://raw.githubusercontent.com/LauraCD2/estadisticos/refs/heads/main/Images/final.png'\n",
        "filename3 = 'final.png'\n",
        "response3 = requests.get(url3)\n",
        "with open(filename3, 'wb') as f:\n",
        "    f.write(response3.content)"
      ]
    },
    {
      "cell_type": "code",
      "execution_count": null,
      "metadata": {
        "id": "aIqwVhv0S-oS"
      },
      "outputs": [],
      "source": [
        "#@title Load dataset\n",
        "df = pd.read_csv('https://raw.githubusercontent.com/LauraCD2/estadisticos/refs/heads/main/2023_nba_player_stats.csv')\n",
        "df['POS'] = df['POS'].fillna('PF') #Limpiamos registros vacios.\n",
        "print('Shape:',df.shape)\n",
        "df.head(12)"
      ]
    },
    {
      "cell_type": "code",
      "execution_count": null,
      "metadata": {
        "id": "MXeKNIeRXZaL"
      },
      "outputs": [],
      "source": [
        "df.info()"
      ]
    },
    {
      "cell_type": "markdown",
      "metadata": {
        "id": "9QcxRn5YXRYT"
      },
      "source": [
        "---\n",
        "\n",
        "Nuestro Dataset contiene las estadísticas de cada jugador de la NBA durante la temporada regular del 2023.\n",
        "\n",
        "PName: El nombre del jugador  \n",
        "POS: La posición del jugador  \n",
        "Team: La abreviatura del equipo en el que juega actualmente el jugador esta temporada  \n",
        "Age: La edad del jugador  \n",
        "GP: El número total de juegos que ha jugado el jugador en esta temporada  \n",
        "W: El número total de juegos ganados por el jugador  \n",
        "L: El número total de juegos perdidos por el jugador  \n",
        "Min: El total de minutos que ha jugado el jugador en esta temporada  \n",
        "PTS: El total de puntos anotados por el jugador [objetivo]  \n",
        "FGM: El número total de tiros de campo encestados por el jugador  \n",
        "FGA: El número total de tiros de campo intentados por el jugador  \n",
        "FG%: El porcentaje de tiros de campo encestados por el jugador  \n",
        "3PM: El número total de triples encestados por el jugador  \n",
        "3PA: El número total de triples intentados por el jugador  \n",
        "3P%: El porcentaje de triples encestados por el jugador  \n",
        "FTM: El número total de tiros libres encestados por el jugador  \n",
        "FTA: El número total de tiros libres intentados por el jugador  \n",
        "FT%: El porcentaje de tiros libres encestados por el jugador  \n",
        "OREB: El número total de rebotes ofensivos realizados por el jugador  \n",
        "DREB: El número total de rebotes defensivos realizados por el jugador  \n",
        "REB: El número total de rebotes (ofensivos + defensivos) realizados por el jugador  \n",
        "AST: El número total de asistencias realizadas por el jugador  \n",
        "TOV: El número total de pérdidas de balón del jugador  \n",
        "STL: El número total de robos realizados por el jugador  \n",
        "BLK: El número total de bloqueos realizados por el jugador  \n",
        "PF: El número total de faltas personales cometidas por el jugador  \n",
        "FP: El total de puntos de fantasía NBA obtenidos por el jugador  \n",
        "DD2: El número total de doble-dobles realizados por el jugador  \n",
        "TD3: El número total de triple-dobles realizados por el jugador  \n",
        "+/-: La diferencia total entre los puntos anotados por el equipo del jugador y los puntos del equipo contrario mientras el jugador está en la cancha  \n",
        "\n",
        "Para más información revise el siguiente link: [https://www.kaggle.com/datasets/amirhosseinmirzaie/nba-players-stats2023-season](https://www.kaggle.com/datasets/amirhosseinmirzaie/nba-players-stats2023-season)"
      ]
    },
    {
      "cell_type": "code",
      "execution_count": null,
      "metadata": {
        "cellView": "form",
        "id": "1VIYtjrTVNAB"
      },
      "outputs": [],
      "source": [
        "#@title Correlación\n",
        "corr_mat = df.iloc[:,3:].corr()\n",
        "plt.figure(figsize=(20, 20))\n",
        "sns.heatmap(corr_mat, annot=True, cmap=\"coolwarm\")"
      ]
    },
    {
      "cell_type": "markdown",
      "metadata": {
        "id": "0o_cG1GCdXvR"
      },
      "source": [
        "## Funciones"
      ]
    },
    {
      "cell_type": "markdown",
      "metadata": {
        "id": "30mBs2EXZVFr"
      },
      "source": [
        "### Prueba de hipotesis"
      ]
    },
    {
      "cell_type": "code",
      "execution_count": null,
      "metadata": {
        "cellView": "form",
        "id": "p2hy0AvBZhH-"
      },
      "outputs": [],
      "source": [
        "#@title Una muestra, varianza conocida\n",
        "def prueba_hipotesis_completa(x_barra, mu_0, sigma, n, alpha, cola, x_sup):\n",
        "    Z = (x_barra - mu_0) / (sigma / np.sqrt(n))\n",
        "    x = np.linspace(-20, 20, 1000)\n",
        "    y = norm.pdf(x, 0, 1)\n",
        "\n",
        "\n",
        "    if cola == 'inf':\n",
        "      z = norm.ppf(alpha)\n",
        "      if Z < z:\n",
        "        print('Se rechaza Ho bajo', alpha)\n",
        "      else:\n",
        "        print('No se puede rechazar Ho bajo', alpha)\n",
        "\n",
        "      print('punto crítico', z)\n",
        "\n",
        "      p = norm.cdf(Z)\n",
        "      print('p-valor:', p)\n",
        "\n",
        "      beta = 1 - norm.cdf(z - (x_sup - mu_0)/(sigma/np.sqrt(n)))\n",
        "      print('beta:', beta)\n",
        "\n",
        "      cota_superior = x_barra + z * (sigma / np.sqrt(n))\n",
        "      cota_inferior = x_barra - z * (sigma / np.sqrt(n))\n",
        "      print('intervalo de confianza', cota_inferior, cota_superior)\n",
        "\n",
        "      plt.fill_between(x, y, where=(x <= z), color='red')\n",
        "      plt.axvline(z, color='black', linestyle='dotted')\n",
        "      plt.axvline(Z, color='green', linestyle='--')\n",
        "\n",
        "\n",
        "    if cola == 'sup':\n",
        "      z = norm.ppf(1-alpha)\n",
        "      if Z > z:\n",
        "        print('Se rechaza Ho bajo', alpha)\n",
        "      else:\n",
        "        print('No se puede rechazar Ho bajo', alpha)\n",
        "\n",
        "      print('punto crítico', z)\n",
        "\n",
        "      p = 1 - norm.cdf(Z)\n",
        "      print('p-valor', p)\n",
        "\n",
        "      beta = norm.cdf(z - (x_sup - mu_0)/(sigma/np.sqrt(n)))\n",
        "      print('beta', beta)\n",
        "\n",
        "      cota_superior = x_barra + z * (sigma / np.sqrt(n))\n",
        "      cota_inferior = x_barra - z * (sigma / np.sqrt(n))\n",
        "      print('intervalo de confianza', cota_inferior, cota_superior)\n",
        "\n",
        "      plt.fill_between(x, y, where=(x >= z), color='red', alpha=0.5)\n",
        "      plt.axvline(z, color='black', linestyle='dotted')\n",
        "      plt.axvline(Z, color='green', linestyle='--')\n",
        "\n",
        "    if cola == 'dos':\n",
        "      z_medio = norm.ppf(1 - alpha / 2)\n",
        "      if abs(Z) > z_medio:\n",
        "        print('Se rechaza Ho bajo', alpha)\n",
        "      else:\n",
        "        print('No se puede rechazar Ho bajo', alpha)\n",
        "\n",
        "      print('puntos críticos', -z_medio, z_medio)\n",
        "\n",
        "      p = 2 * (1 - norm.cdf(abs(Z)))\n",
        "      print('p-valor', p)\n",
        "\n",
        "      beta = norm.cdf(z_medio - (x_sup - mu_0)/(sigma/np.sqrt(n))) - norm.cdf(-z_medio - (x_sup - mu_0)/(sigma/np.sqrt(n)))\n",
        "      print('beta', beta)\n",
        "\n",
        "      cota_superior = x_barra + z_medio * (sigma / np.sqrt(n))\n",
        "      cota_inferior = x_barra - z_medio * (sigma / np.sqrt(n))\n",
        "      print('intervalo de confianza', cota_inferior, cota_superior)\n",
        "\n",
        "      plt.fill_between(x, y, where=(x <= -z_medio), color='red', alpha=0.5)\n",
        "      plt.fill_between(x, y, where=(x >= z_medio), color='red', alpha=0.5)\n",
        "      plt.axvline(Z, color='green', linestyle='--')\n",
        "      plt.axvline(-z_medio, color='black', linestyle='dotted')\n",
        "      plt.axvline(z_medio, color='black', linestyle='dotted')\n",
        "      plt.axvline(-z_medio, color='black', linestyle='dotted')\n",
        "      plt.axvline(z_medio, color='black', linestyle='dotted')\n",
        "\n",
        "    print('estadístico', Z)\n",
        "    plt.show()"
      ]
    },
    {
      "cell_type": "code",
      "execution_count": null,
      "metadata": {
        "cellView": "form",
        "id": "Hzy3I-EbZrmC"
      },
      "outputs": [],
      "source": [
        "#@title Dos muestras, varianza conocida\n",
        "import numpy as np\n",
        "import matplotlib.pyplot as plt\n",
        "from scipy.stats import norm\n",
        "\n",
        "def prueba_hipotesis_2muestrasZ(x_barra1, x_barra2, var1, var2, n1, n2, alpha, cola, delta=0):\n",
        "    sigma = np.sqrt((var1 / n1) + (var2 / n2))\n",
        "    Z = (x_barra1 - x_barra2 - delta) / sigma\n",
        "    x = np.linspace(-10, 10, 1000)\n",
        "    y = norm.pdf(x, 0, 1)\n",
        "\n",
        "    if cola == 'inf':\n",
        "        z = norm.ppf(alpha)\n",
        "        if Z < z:\n",
        "            print('Se rechaza Ho bajo', alpha)\n",
        "        else:\n",
        "            print('No se puede rechazar Ho bajo', alpha)\n",
        "\n",
        "        print('Punto crítico:', z)\n",
        "\n",
        "        p = norm.cdf(Z)\n",
        "        print('p-valor:', p)\n",
        "\n",
        "        cota_superior = (x_barra1 - x_barra2) + z * sigma\n",
        "        cota_inferior = (x_barra1 - x_barra2) - z * sigma\n",
        "        print('Intervalo de confianza:', cota_inferior, cota_superior)\n",
        "\n",
        "        plt.fill_between(x, y, where=(x <= z), color='red', alpha=0.5)\n",
        "        plt.axvline(z, color='black', linestyle='dotted')\n",
        "        plt.axvline(Z, color='green', linestyle='--')\n",
        "\n",
        "    elif cola == 'sup':\n",
        "        z = norm.ppf(1 - alpha)\n",
        "        if Z > z:\n",
        "            print('Se rechaza Ho bajo', alpha)\n",
        "        else:\n",
        "            print('No se puede rechazar Ho bajo', alpha)\n",
        "\n",
        "        print('Punto crítico:', z)\n",
        "\n",
        "        p = 1 - norm.cdf(Z)\n",
        "        print('p-valor:', p)\n",
        "\n",
        "        cota_superior = (x_barra1 - x_barra2) + z * sigma\n",
        "        cota_inferior = (x_barra1 - x_barra2) - z * sigma\n",
        "        print('Intervalo de confianza:', cota_inferior, cota_superior)\n",
        "\n",
        "        plt.fill_between(x, y, where=(x >= z), color='red', alpha=0.5)\n",
        "        plt.axvline(z, color='black', linestyle='dotted')\n",
        "        plt.axvline(Z, color='green', linestyle='--')\n",
        "\n",
        "    elif cola == 'dos':\n",
        "        z_medio = norm.ppf(1 - alpha / 2)\n",
        "        if abs(Z) > z_medio:\n",
        "            print('Se rechaza Ho bajo', alpha)\n",
        "        else:\n",
        "            print('No se puede rechazar Ho bajo', alpha)\n",
        "\n",
        "        print('Puntos críticos:', -z_medio, z_medio)\n",
        "\n",
        "        p = 2 * (1 - norm.cdf(abs(Z)))\n",
        "        print('p-valor:', p)\n",
        "\n",
        "        cota_superior = (x_barra1 - x_barra2) + z_medio * sigma\n",
        "        cota_inferior = (x_barra1 - x_barra2) - z_medio * sigma\n",
        "        print('Intervalo de confianza:', cota_inferior, cota_superior)\n",
        "\n",
        "        plt.fill_between(x, y, where=(x <= -z_medio), color='red', alpha=0.5)\n",
        "        plt.fill_between(x, y, where=(x >= z_medio), color='red', alpha=0.5)\n",
        "        plt.axvline(Z, color='green', linestyle='--')\n",
        "        plt.axvline(-z_medio, color='black', linestyle='dotted')\n",
        "        plt.axvline(z_medio, color='black', linestyle='dotted')\n",
        "\n",
        "    print('Estadístico:', Z)\n",
        "    plt.show()\n"
      ]
    },
    {
      "cell_type": "code",
      "execution_count": null,
      "metadata": {
        "cellView": "form",
        "id": "8q95nkfyakBr"
      },
      "outputs": [],
      "source": [
        "#@title Dos muestras, varianza desconocida\n",
        "def prueba_hipotesis_2muestrasT(x_barra1, x_barra2, var1, var2, n1, n2, alpha, cola, delta=0, var='iguales'):\n",
        "  if var == 'iguales':\n",
        "    v = n1 + n2 -2\n",
        "    Sp = np.sqrt(((n1 - 1)*var1 + (n2 - 1)*var2)/v)\n",
        "    sigma = Sp*np.sqrt((1/n1) + (1/n2))\n",
        "    print('varianza combinada', Sp**2, 'grados de libertad', v)\n",
        "  if var == 'distinta':\n",
        "    v = (var1/n1 + var2/n2)**2 / ((var1/n1)**2/(n1-1) + (var2/n2)**2/(n2-1))\n",
        "    sigma = np.sqrt((var1/n1) + (var2/n2))\n",
        "    print('grados de libertad', v)\n",
        "\n",
        "  T = (x_barra1 - x_barra2 - delta) / sigma\n",
        "  x = np.linspace(-10, 10, 1000)\n",
        "  y = norm.pdf(x, 0, 1)\n",
        "\n",
        "  if cola == 'inf':\n",
        "    t = stats.t.ppf(alpha, v)\n",
        "    if T < t:\n",
        "      print('Se rechaza Ho bajo', alpha)\n",
        "    else:\n",
        "      print('No se puede rechazar Ho bajo', alpha)\n",
        "\n",
        "    print('punto crítico:', t)\n",
        "\n",
        "    p = norm.cdf(T)\n",
        "    print('p-valor:', p)\n",
        "\n",
        "    cota_superior = (x_barra1 - x_barra2) + t * sigma\n",
        "    cota_inferior = (x_barra1 - x_barra2) - t * sigma\n",
        "    print('Intervalo de confianza:', cota_inferior, cota_superior)\n",
        "\n",
        "    plt.fill_between(x, y, where=(x <= t), color='red')\n",
        "    plt.axvline(t, color='black', linestyle='dotted')\n",
        "    plt.axvline(T, color='green', linestyle='--')\n",
        "\n",
        "  if cola == 'sup':\n",
        "    t = stats.t.ppf(1 - alpha, v)\n",
        "    if T > t:\n",
        "      print('Se rechaza Ho bajo', alpha)\n",
        "    else:\n",
        "      print('No se puede rechazar Ho bajo', alpha)\n",
        "\n",
        "    print('punto crítico:', t)\n",
        "\n",
        "\n",
        "    p_valor = 1 - norm.cdf(T)\n",
        "    print('p-valor:', p_valor)\n",
        "\n",
        "    cota_superior = (x_barra1 - x_barra2) + t * sigma\n",
        "    cota_inferior = (x_barra1 - x_barra2) - t * sigma\n",
        "    print('Intervalo de confianza:', cota_inferior, cota_superior)\n",
        "\n",
        "    plt.fill_between(x, y, where=(x >= t), color='red', alpha=0.5)\n",
        "    plt.axvline(t, color='black', linestyle='dotted')\n",
        "    plt.axvline(T, color='green', linestyle='--')\n",
        "\n",
        "\n",
        "  if cola == 'dos':\n",
        "    t_medio = stats.t.ppf(1 - alpha / 2, v)\n",
        "    if abs(T) > t_medio:\n",
        "      print('Se rechaza Ho bajo', alpha)\n",
        "    else:\n",
        "      print('No se puede rechazar Ho bajo', alpha)\n",
        "\n",
        "    print('puntos críticos', -t_medio, t_medio)\n",
        "\n",
        "    p = 2 * (1 - norm.cdf(abs(T)))\n",
        "    print('p-valor', p)\n",
        "\n",
        "    cota_superior = (x_barra1 - x_barra2) + t_medio * sigma\n",
        "    cota_inferior = (x_barra1 - x_barra2) - t_medio * sigma\n",
        "    print('Intervalo de confianza:', cota_inferior, cota_superior)\n",
        "\n",
        "    plt.fill_between(x, y, where=(x <= -t_medio), color='red', alpha=0.5)\n",
        "    plt.fill_between(x, y, where=(x >= t_medio), color='red', alpha=0.5)\n",
        "    plt.axvline(T, color='green', linestyle='--')\n",
        "    plt.axvline(-t_medio, color='black', linestyle='dotted')\n",
        "    plt.axvline(t_medio, color='black', linestyle='dotted')\n",
        "\n",
        "  print('Estadístico:', T)\n",
        "  plt.show()"
      ]
    },
    {
      "cell_type": "markdown",
      "metadata": {
        "id": "9skFi9HNZfDj"
      },
      "source": [
        "### Regresion"
      ]
    },
    {
      "cell_type": "code",
      "execution_count": null,
      "metadata": {
        "id": "zYtvU3XLbtCr"
      },
      "outputs": [],
      "source": [
        "def regresion(x, y, alpha, z):\n",
        "  # algunos valores\n",
        "  n = np.size(x)\n",
        "  sum_xy = np.sum(x * y)\n",
        "  sum_x = np.sum(x)\n",
        "  sum_y = np.sum(y)\n",
        "  sum_x2 = np.sum(x ** 2)\n",
        "  # print('sum_x2 es', sum_x2)\n",
        "  x_barra = np.sum(x) / n\n",
        "  # print('x_barra es', x_barra)\n",
        "  y_barra = np.sum(y) / n\n",
        "  SXY = sum_xy - (sum_y * sum(x)) / (n)\n",
        "  SXX = sum_x2 - (sum_x ** 2) / (n)\n",
        "  # print('SXY es', SXY)\n",
        "  # print('SXX es', SXX)\n",
        "\n",
        "  # coeficientes y recta\n",
        "  B1 = SXY / SXX\n",
        "  B0 = y_barra - B1 * x_barra\n",
        "  y_estimados = B0 + B1 * x  # grafica\n",
        "  print(\"Mi recta de regresion es\", B0, '+', B1, 'x')\n",
        "  print('B0 es', B0, 'y B1 es', B1)\n",
        "\n",
        "  # Estimación sigma2\n",
        "  SSE = np.sum(y**2) - B0*np.sum(y) - B1*np.sum(x*y)\n",
        "  print('SSE es', SSE)\n",
        "  sigma2 = SSE/(n-2)\n",
        "  print('sigma2 es', sigma2)\n",
        "  sigma = np.sqrt(sigma2)\n",
        "  print('sigma es', sigma)\n",
        "\n",
        "  #parámetros de B0, B1\n",
        "  var_B1 = sigma2 / SXX\n",
        "  print('var_B1 es', var_B1)\n",
        "  var_B0 = (sigma2*sum(x**2)) / (n*SXX)\n",
        "  print('var_B0 es', var_B0)\n",
        "  std_B1 = np.sqrt(var_B1)\n",
        "  print('std_B1 es', std_B1)\n",
        "  std_B0 = np.sqrt(var_B0)\n",
        "  print('std_B0 es', std_B0)\n",
        "  cov_B1B0 = -(x_barra*sigma2)/(n*SXX)\n",
        "  print('cov de B0 y B1 es', cov_B1B0)\n",
        "\n",
        "  #intervalos de confianza\n",
        "  v = n-2\n",
        "  t_medio = stats.t.ppf(1-alpha/2, v)\n",
        "  supB1 = B1 + t_medio*std_B1\n",
        "  infB1 = B1 - t_medio*std_B1\n",
        "  print('La cota superior para B1 es', supB1)\n",
        "  print('La cota inferior para B1 es', infB1)\n",
        "  y_estimadosSup = B0 + supB1*x\n",
        "  y_estimadosInf = B0 + infB1*x\n",
        "\n",
        "  #intervalo de predicción para Y\n",
        "  y_estimado = B0 + B1*z\n",
        "  print('y estimado para x = ',z,':', y_estimado)\n",
        "  supY = y_estimado + t_medio*sigma*(np.sqrt(1 + 1/n + (z - x_barra)**2/SXX))\n",
        "  infY = y_estimado - t_medio*sigma*(np.sqrt(1 + 1/n + (z - x_barra)**2/SXX))\n",
        "  print('La cota superior para Y es', supY)\n",
        "  print('La cota inferior para Y es', infY)\n",
        "\n",
        "\n",
        "  #Correlacion\n",
        "  SYY = np.sum((y - y_barra)**2)\n",
        "  print(\"SYY:\", SYY)\n",
        "  r = SXY/np.sqrt(SXX*SYY)\n",
        "  print(\"r es\",r)\n",
        "\n",
        "  return B0, B1, y_estimados, SSE, sigma2, sigma, SXX, var_B1, var_B0, std_B1, std_B0, cov_B1B0, supB1, infB1, y_estimadosSup, y_estimadosInf, y_estimado, supY, infY\n"
      ]
    },
    {
      "cell_type": "markdown",
      "metadata": {
        "id": "SZg2zCqyerPx"
      },
      "source": [
        "## Ejercicio de regresión  (toca arreglar las graficas de los intervalos, el punto del y_pred queda mal)"
      ]
    },
    {
      "cell_type": "code",
      "execution_count": null,
      "metadata": {
        "cellView": "form",
        "id": "jrjQMGG0eoGR"
      },
      "outputs": [],
      "source": [
        "#@title Variables\n",
        "#@markdown Relación entre las variables $x$ (Minutos jugados) y $y$ (Puntos anotados)\n",
        "x = df['Min'].astype(int)\n",
        "print('Primeras 10 filas\\n')\n",
        "print('x=',np.array(x[:10]))\n",
        "y = df['PTS'].astype(int)\n",
        "print('\\ny=',np.array(y[:10]))"
      ]
    },
    {
      "cell_type": "code",
      "execution_count": null,
      "metadata": {
        "cellView": "form",
        "id": "F2Uxvk-bfiyh"
      },
      "outputs": [],
      "source": [
        "#@title Gráfica de dispersión\n",
        "plt.plot(x, y, 'o')\n",
        "plt.title('Jugadores')\n",
        "plt.xlabel('Minutos Jugados')\n",
        "plt.ylabel('Puntos Anotados')\n",
        "plt.show()"
      ]
    },
    {
      "cell_type": "code",
      "execution_count": null,
      "metadata": {
        "cellView": "form",
        "id": "QKkPxtjNDRve"
      },
      "outputs": [],
      "source": [
        "#@title Comportamiento de las variables\n",
        "plt.figure(figsize=(10, 4))\n",
        "plt.subplot(1, 2, 1)\n",
        "plt.boxplot(x, vert=False)\n",
        "plt.title('Comportamiento de la variable x')\n",
        "plt.subplot(1, 2, 2)\n",
        "plt.boxplot(y, vert=False)\n",
        "plt.title('Comportamiento de la variable y')\n",
        "\n",
        "plt.tight_layout()\n",
        "plt.show()"
      ]
    },
    {
      "cell_type": "code",
      "execution_count": null,
      "metadata": {
        "id": "fmAvGMBvDXY_"
      },
      "outputs": [],
      "source": [
        "try:\n",
        "  x = np.array(x)\n",
        "  y = np.array(y)\n",
        "\n",
        "  B0, B1, y_estimados, SSE, sigma2, sigma, SXX, var_B1, var_B0, std_B1, std_B0, cov_B1B0, supB1, infB1, y_estimadosSup, y_estimadosInf, y_estimado, supY, infY = regresion(x, y, 0.05, 45)\n",
        "\n",
        "except KeyError as e:\n",
        "  print(f\"Error: Column not found in DataFrame: {e}\")\n",
        "except Exception as e:\n",
        "  print(f\"Error processing data: {e}\")"
      ]
    },
    {
      "cell_type": "code",
      "execution_count": null,
      "metadata": {
        "id": "vXcK3YlHDjE-"
      },
      "outputs": [],
      "source": [
        "plt.scatter(x, y, color='blue', label='Data')\n",
        "plt.plot(x, y_estimados, color='red', label='Regression Line')\n",
        "plt.xlabel('Minutos Jugados')\n",
        "plt.ylabel('Puntos Anotados')\n",
        "plt.title(f'Regresión Lineal, varianza = {sigma2}')\n",
        "plt.legend()\n",
        "plt.show()"
      ]
    },
    {
      "cell_type": "code",
      "execution_count": null,
      "metadata": {
        "id": "hilN1M7GDvEm"
      },
      "outputs": [],
      "source": [
        "plt.figure(figsize=(10, 6))\n",
        "plt.plot(x, y_estimados)\n",
        "plt.plot(x, y, 'o')\n",
        "plt.plot(x, y_estimadosSup, color='red', linestyle='--')\n",
        "plt.plot(x, y_estimadosInf, color='red', linestyle='--')\n",
        "plt.scatter(2000, y_estimado, color='red')\n",
        "plt.fill_between(np.array([2000]), infY, supY, color='red', alpha=0.3, label='Intervalo de Predicción(95%)')\n",
        "plt.legend(loc='lower right')\n",
        "plt.title('Intervalos de predicción')\n",
        "plt.xlabel('x')\n",
        "plt.ylabel('y')\n",
        "plt.show()"
      ]
    },
    {
      "cell_type": "code",
      "execution_count": null,
      "metadata": {
        "cellView": "form",
        "id": "9b7VOeFFDmVO"
      },
      "outputs": [],
      "source": [
        "#@title Simulación\n",
        "def simulate_regression_lines(x, y, sigma, num_simulations=3,):\n",
        "    n = len(x)\n",
        "    slopes = []\n",
        "    intercepts = []\n",
        "\n",
        "    plt.figure(figsize=(8, 5))\n",
        "    plt.scatter(x, y, label=\"Datos Reales\", color=\"blue\")\n",
        "\n",
        "    # Modelo base sin ruido (regresión real)\n",
        "    model_real = LinearRegression()\n",
        "    model_real.fit(x.reshape(-1, 1), y)\n",
        "    y_real = model_real.predict(x.reshape(-1, 1))\n",
        "    plt.plot(x, y_real, color=\"black\", label=\"Real\", linewidth=2)\n",
        "\n",
        "    for i in range(num_simulations):\n",
        "        # Generar errores aleatorios con distribución N(0, sigma)\n",
        "        errors = np.random.normal(loc=0, scale=sigma, size=n)\n",
        "        y_simulated = y + errors\n",
        "\n",
        "        # Ajustar la regresión lineal con los datos perturbados\n",
        "        model_sim = LinearRegression()\n",
        "        model_sim.fit(x.reshape(-1, 1), y_simulated)\n",
        "\n",
        "        slopes.append(model_sim.coef_[0])\n",
        "        intercepts.append(model_sim.intercept_)\n",
        "\n",
        "        # Dibujar la línea simulada\n",
        "        y_simulated_line = intercepts[i] + slopes[i] * x\n",
        "        plt.plot(x, y_simulated_line, alpha=0.8, label=f\"Simulada {i+1}\")\n",
        "\n",
        "    plt.xlabel(\"x\")\n",
        "    plt.ylabel(\"y\")\n",
        "    plt.title(\"Familia de rectas con error modelado\")\n",
        "    plt.legend()\n",
        "    plt.show()"
      ]
    },
    {
      "cell_type": "code",
      "execution_count": null,
      "metadata": {
        "id": "M7vB9D-rDvq-"
      },
      "outputs": [],
      "source": [
        "simulate_regression_lines(x, y, sigma, num_simulations=3)"
      ]
    },
    {
      "cell_type": "code",
      "execution_count": null,
      "metadata": {
        "cellView": "form",
        "id": "GNQOQ0ZPD1mg"
      },
      "outputs": [],
      "source": [
        "#@title Prueba de hipótesis sobre $\\beta1$\n",
        "def pruebaHipotesis(x,B0,B1,std_B1,alpha):\n",
        "  n = np.size(x)\n",
        "  T = (B1 - 0)/(std_B1)\n",
        "  print('T es', T)\n",
        "\n",
        "  v = n-2\n",
        "  t_medio = stats.t.ppf(1-alpha/2, v)\n",
        "  print('el valor crítico es', t_medio)\n",
        "\n",
        "  if abs(T)>t_medio:\n",
        "    print('Se rechaza H0 bajo', alpha)\n",
        "  else:\n",
        "    print('No se rechaza H0 bajo', alpha)"
      ]
    },
    {
      "cell_type": "code",
      "execution_count": null,
      "metadata": {
        "id": "ovVQgx_LD2a3"
      },
      "outputs": [],
      "source": [
        "pruebaHipotesis(x,B0,B1,std_B1,0.05)"
      ]
    },
    {
      "cell_type": "markdown",
      "metadata": {
        "id": "qDixGdpdhU-i"
      },
      "source": [
        "# PREDICCIÓN PLAYOFFS 2023"
      ]
    },
    {
      "cell_type": "markdown",
      "metadata": {
        "id": "WFHwlsDchs-C"
      },
      "source": [
        "### ¿Qué son los Playoffs de la NBA?\n",
        "\n",
        "Los *Playoffs* de la NBA es una competición que comienza una vez finalizada la temporada regular, en la cual los equipos que obtuvieron los mejores registros de victorias y derrotas de cada conferencia (Este y Oeste) compiten por el campeonato.\n",
        "\n",
        "En total, **16** equipos clasifican a los Playoffs, 8 por la Conferencia Este y 8 por la Conferencia Oeste.\n",
        "\n",
        "Una vez definidos los equipos clasificados, se enfrentan en una serie de eliminación directa al mejor de siete partidos.\n",
        "\n",
        "Las rondas son:\n",
        "\n",
        "1. Primera Ronda (o Cuartos de Final de Conferencia)  \n",
        "2. Semifinales de Conferencia  \n",
        "3. Finales de Conferencia  \n",
        "4. Finales de la NBA\n",
        "\n",
        "El primer equipo que gane 4 juegos en cada serie avanza a la siguiente ronda, y el último equipo en pie se corona como campeón de la NBA.\n"
      ]
    },
    {
      "cell_type": "code",
      "execution_count": null,
      "metadata": {
        "cellView": "form",
        "id": "hn0X0XNm31vR"
      },
      "outputs": [],
      "source": [
        "#@title Equipos clasificados\n",
        "img = Image.open('playoffs.png')\n",
        "plt.figure(figsize=(10, 10))\n",
        "plt.imshow(img)\n",
        "plt.axis('off')\n",
        "plt.show()"
      ]
    },
    {
      "cell_type": "markdown",
      "metadata": {
        "id": "DqIa3leJkzgq"
      },
      "source": [
        "### Objetivo (toca mejorar, solo puse la idea, falta parafraseada)\n",
        "\n",
        "Mediante nuestro dataset, vamos a agrupar a los jugadores en los equipos que compitieron este torneo, y usaremos ciertas metricas para simular cada serie de dicho torneo, la intencion es comparar los resultados obtenidos, basados meramente en estadisticas de la temporada, con los resultados reales de los playoffs de ese año.\n",
        "\n",
        "Con esto vemos si la dominancia de ciertos equipos mediante toda la temporada se vio reflejada en el torneo, además de que al ser un deporte, se creeria que no todo son las estadisticas, un equipo \"peor\" que otro puede dar la sorpresa y ganarle"
      ]
    },
    {
      "cell_type": "markdown",
      "metadata": {
        "id": "YuzebNXSl7gi"
      },
      "source": [
        "### Equipos clasificados a los Playoffs 2023\n",
        "\n",
        "\\begin{array}{|c|l|l|}\n",
        "\\hline\n",
        "\\text{Puesto} & \\text{Conferencia Este} & \\text{Conferencia Oeste} \\\\\n",
        "\\hline\n",
        "1 & \\text{Milwaukee Bucks} & \\text{Denver Nuggets} \\\\\n",
        "2 & \\text{Boston Celtics} & \\text{Memphis Grizzlies} \\\\\n",
        "3 & \\text{Philadelphia 76ers} & \\text{Sacramento Kings} \\\\\n",
        "4 & \\text{Cleveland Cavaliers} & \\text{Phoenix Suns} \\\\\n",
        "5 & \\text{New York Knicks} & \\text{Los Angeles Clippers} \\\\\n",
        "6 & \\text{Brooklyn Nets} & \\text{Golden State Warriors} \\\\\n",
        "7 & \\text{Atlanta Hawks} & \\text{Los Angeles Lakers} \\\\\n",
        "8 & \\text{Miami Heat} & \\text{Minnesota Timberwolves} \\\\\n",
        "\\hline\n",
        "\\end{array}\n",
        "\n"
      ]
    },
    {
      "cell_type": "code",
      "execution_count": null,
      "metadata": {
        "cellView": "form",
        "id": "mvzdMII_ohBy"
      },
      "outputs": [],
      "source": [
        "#@title Agrupando por equipos\n",
        "#@markdown Escogemos los primeros 15 jugadores de cada equipo ya que eston son los que más minutos jugaron.\n",
        "\n",
        "#Este\n",
        "Bucks = df[df['Team'] == 'MIL'][:15]\n",
        "Celtics = df[df['Team'] == 'BOS'][:15]\n",
        "Sixers = df[df['Team'] == 'PHI'][:15]\n",
        "Cavaliers = df[df['Team'] == 'CLE'][:15]\n",
        "Knicks = df[df['Team'] == 'NYK'][:15]\n",
        "Nets = df[df['Team'] == 'BKN'][:15]\n",
        "Hawks = df[df['Team'] == 'ATL'][:15]\n",
        "Heat = df[df['Team'] == 'MIA'][:15]\n",
        "\n",
        "#Oeste\n",
        "Nuggets = df[df['Team'] == 'DEN'][:15]\n",
        "Grizzlies = df[df['Team'] == 'MEM'][:15]\n",
        "Kings = df[df['Team'] == 'SAC'][:15]\n",
        "Suns = df[df['Team'] == 'PHX'][:15]\n",
        "Clippers = df[df['Team'] == 'LAC'][:15]\n",
        "Warriors = df[df['Team'] == 'GSW'][:15]\n",
        "Lakers = df[df['Team'] == 'LAL'][:15]\n",
        "Timberwolves = df[df['Team'] == 'MIN'][:15]\n",
        "\n",
        "#@markdown Ejemplo: Los Angeles Lakers\n",
        "Nuggets\n"
      ]
    },
    {
      "cell_type": "markdown",
      "metadata": {
        "id": "yxwrdK5oNHvI"
      },
      "source": [
        "### Sistema de puntuación\n",
        "Para poder simular las series debemos asignar probabilidades, para esto cada equipo debe tener un puntaje del cual podamos basarnos, dicho puntaje se obtiene teniendo en cuenta lo siguiente para cada jugador:\n",
        "\n",
        "-Puntos por partido\n",
        "\n",
        "-Rebotes por partido\n",
        "\n",
        "-Robos y bloqueos por partido\n",
        "\n",
        "-Perdidas por partido (se restan)\n",
        "\n",
        "\n",
        "Tomamos esos datos de cada jugador, le asignamos un peso diferente a cada uno y los sumamos, obteniendo un puntaje individual por jugador, despúes promediamos los puntajes de todos los jugadores y ese valor que obtenemos lo multiplicamos por la cantidad de victorias que tuvo el equipo a lo largo de la temporada, obteniendo asi el puntaje del equipo.\n"
      ]
    },
    {
      "cell_type": "code",
      "execution_count": null,
      "metadata": {
        "id": "DnVi87IfZJHi"
      },
      "outputs": [],
      "source": [
        "def puntosEquipo(df):\n",
        "  ventaja = df['W'].max()\n",
        "  puntos = ((df['PTS'] / df['GP']) * df['FG%']) * 0.35 + (df['REB'] / df['GP']) * 0.2 + ((df['STL'] + df['BLK']) / df['GP']) * 0.3 - (df['TOV'] / df['GP']) * 0.15\n",
        "  df['puntos_jugador'] = (\n",
        "      puntos * (ventaja/100)\n",
        "  )\n",
        "  return df['puntos_jugador'].mean()"
      ]
    },
    {
      "cell_type": "code",
      "execution_count": null,
      "metadata": {
        "cellView": "form",
        "id": "Q9SOE68DN0c9"
      },
      "outputs": [],
      "source": [
        "#@title Puntos de cada equipo\n",
        "#Este\n",
        "puntos_bucks = puntosEquipo(Bucks)\n",
        "puntos_celtics = puntosEquipo(Celtics)\n",
        "puntos_sixers = puntosEquipo(Sixers)\n",
        "puntos_cavaliers = puntosEquipo(Cavaliers)\n",
        "puntos_knicks = puntosEquipo(Knicks)\n",
        "puntos_nets = puntosEquipo(Nets)\n",
        "puntos_hawks = puntosEquipo(Hawks)\n",
        "puntos_heat = puntosEquipo(Heat)\n",
        "#Oeste\n",
        "puntos_nuggets = puntosEquipo(Nuggets)\n",
        "puntos_grizzlies = puntosEquipo(Grizzlies)\n",
        "puntos_kings = puntosEquipo(Kings)\n",
        "puntos_suns = puntosEquipo(Suns)\n",
        "puntos_clippers = puntosEquipo(Clippers)\n",
        "puntos_warriors = puntosEquipo(Warriors)\n",
        "puntos_lakers = puntosEquipo(Lakers)\n",
        "puntos_timberwolves = puntosEquipo(Timberwolves)\n",
        "\n",
        "print('Puntos del equipo Bucks:', puntos_bucks)\n",
        "print('Puntos del equipo Celtics:', puntos_celtics)\n",
        "print('Puntos del equipo 6ers:', puntos_sixers)\n",
        "print('Puntos del equipo Cavaliers:', puntos_cavaliers)\n",
        "print('Puntos del equipo Knicks:', puntos_knicks)\n",
        "print('Puntos del equipo Nets:', puntos_nets)\n",
        "print('Puntos del equipo Hawks:', puntos_hawks)\n",
        "print('Puntos del equipo Heat:', puntos_heat)\n",
        "print('Puntos del equipo Nuggets:', puntos_nuggets)\n",
        "print('Puntos del equipo Grizzlies:', puntos_grizzlies)\n",
        "print('Puntos del equipo Kings:', puntos_kings)\n",
        "print('Puntos del equipo Suns:', puntos_suns)\n",
        "print('Puntos del equipo Clippers:', puntos_clippers)\n",
        "print('Puntos del equipo Warriors:', puntos_warriors)\n",
        "print('Puntos del equipo Lakers:', puntos_lakers)\n",
        "print('Puntos del equipo Timberwolves:', puntos_timberwolves)\n"
      ]
    },
    {
      "cell_type": "markdown",
      "metadata": {
        "id": "2W9n4QPwgHG3"
      },
      "source": [
        "### Codigo de simulación\n",
        "\n",
        "Hacemos la simulación de una serie, en la cual calculamos la probabilidad de que cada equipo gane, simulamos los juegos con un maximo de 7 y damos por ganador al primero que llegue a 4."
      ]
    },
    {
      "cell_type": "code",
      "execution_count": null,
      "metadata": {
        "id": "vulbhO9VmB3S"
      },
      "outputs": [],
      "source": [
        "def serie(equipo1, equipo2):\n",
        "  ngames = 7\n",
        "  wins1 = 0\n",
        "  wins2 = 0\n",
        "  puntos1 = puntosEquipo(equipo1)\n",
        "  puntos2 = puntosEquipo(equipo2)\n",
        "  prob1 = puntos1 / (puntos1 + puntos2)\n",
        "  for i in range(ngames):\n",
        "    # print('Juego', i+1, end=' :')\n",
        "    if np.random.rand() < prob1:\n",
        "      # print('Gana', equipo1['Team'].iloc[0])\n",
        "      wins1 += 1\n",
        "    else:\n",
        "      # print('Gana', equipo2['Team'].iloc[0])\n",
        "      wins2 += 1\n",
        "    if wins1 == 4:\n",
        "      eq1 = 1\n",
        "      eq2 = 0\n",
        "      break\n",
        "    elif wins2 == 4:\n",
        "      eq1 = 0\n",
        "      eq2 = 1\n",
        "      break\n",
        "  # print(equipo1['Team'].iloc[0], wins1, '-', wins2, equipo2['Team'].iloc[0])\n",
        "  return eq1, eq2, wins1, wins2"
      ]
    },
    {
      "cell_type": "code",
      "execution_count": null,
      "metadata": {
        "id": "iks7euMJnRlB"
      },
      "outputs": [],
      "source": [
        "#Ejemplo\n",
        "serie(Bucks, Nuggets)"
      ]
    },
    {
      "cell_type": "markdown",
      "metadata": {
        "id": "VRKFN0kJqZso"
      },
      "source": [
        "El codigo anterior nos retorna un ganador pero para solo una simulación, lo cual no es suficiente, por lo vamos a probar con 1001 simulaciones, número suficiente para definir un ganador, impar para que no puedan haber empates y tomar al equipo que más haya ganado."
      ]
    },
    {
      "cell_type": "code",
      "execution_count": null,
      "metadata": {
        "id": "dUhblPmwtN6f"
      },
      "outputs": [],
      "source": [
        "def simulacion(equipo1, equipo2, n=1000 1):\n",
        "  victorias1 = 0\n",
        "  victorias2 = 0\n",
        "  for i in range(n):\n",
        "    eq1, eq2, wins1, wins2 = serie(equipo1, equipo2)\n",
        "    victorias1 += eq1\n",
        "    victorias2 += eq2\n",
        "  if victorias1 > victorias2:\n",
        "    print('Gana', equipo1['Team'].iloc[0])\n",
        "    if eq1 == 1:\n",
        "      print(equipo1['Team'].iloc[0], wins1, '-', wins2, equipo2['Team'].iloc[0])\n",
        "    else:\n",
        "      print(equipo1['Team'].iloc[0], wins2, '-', wins1, equipo2['Team'].iloc[0])\n",
        "    print('Victorias de', equipo1['Team'].iloc[0], ':', victorias1)\n",
        "    print('Victorias de', equipo2['Team'].iloc[0], ':', victorias2)\n",
        "    return equipo1\n",
        "  elif victorias2 > victorias1:\n",
        "    print('Gana', equipo2['Team'].iloc[0])\n",
        "    if eq2 == 1:\n",
        "      print(equipo1['Team'].iloc[0], wins1, '-', wins2, equipo2['Team'].iloc[0])\n",
        "    else:\n",
        "      print(equipo1['Team'].iloc[0], wins2, '-', wins1, equipo2['Team'].iloc[0])\n",
        "    print('Victorias de', equipo1['Team'].iloc[0], ':', victorias1)\n",
        "    print('Victorias de', equipo2['Team'].iloc[0], ':', victorias2)\n",
        "    return equipo2"
      ]
    },
    {
      "cell_type": "code",
      "execution_count": null,
      "metadata": {
        "id": "G1qq-3JStncA"
      },
      "outputs": [],
      "source": [
        "#Ejemplo\n",
        "simulacion(Bucks, Nuggets)"
      ]
    },
    {
      "cell_type": "markdown",
      "metadata": {
        "id": "0qOLhDi82P-I"
      },
      "source": [
        "### Simulación Playoffs\n",
        "\n",
        "Ahora si podemos simular las rondas, para esto empezamos con la primera ronda para cada conferencia.\n"
      ]
    },
    {
      "cell_type": "code",
      "execution_count": null,
      "metadata": {
        "cellView": "form",
        "id": "E2JN2P5y5xFp"
      },
      "outputs": [],
      "source": [
        "#@title Llaves de primera ronda\n",
        "img2 = Image.open('llaves.png')\n",
        "plt.figure(figsize=(10, 10))\n",
        "plt.imshow(img2)\n",
        "plt.axis('off')\n",
        "plt.show()"
      ]
    },
    {
      "cell_type": "code",
      "execution_count": null,
      "metadata": {
        "cellView": "form",
        "id": "PuHMSlYC576q"
      },
      "outputs": [],
      "source": [
        "#@title Este\n",
        "\n",
        "print('MIL vs MIA')\n",
        "Esemi1 = simulacion(Bucks, Heat)\n",
        "\n",
        "print('\\nCLE vs NYK')\n",
        "Esemi2 = simulacion(Cavaliers, Knicks)\n",
        "\n",
        "print('\\nPHI vs BKN')\n",
        "Esemi3 = simulacion(Sixers, Nets)\n",
        "\n",
        "print('\\nBOS vs ATL')\n",
        "Esemi4 = simulacion(Celtics, Hawks)"
      ]
    },
    {
      "cell_type": "code",
      "execution_count": null,
      "metadata": {
        "cellView": "form",
        "id": "JwwlMzMF9ZLY"
      },
      "outputs": [],
      "source": [
        "#@title Oeste\n",
        "\n",
        "print('DEN vs MIN')\n",
        "Wsemi1 = simulacion(Nuggets, Timberwolves)\n",
        "\n",
        "print('\\nPHX vs LAC')\n",
        "Wsemi2 = simulacion(Suns, Clippers)\n",
        "\n",
        "print('\\nSAC vs GSW')\n",
        "Wsemi3 = simulacion(Kings, Warriors)\n",
        "\n",
        "print('\\nMEM vs LAL')\n",
        "Wsemi4 = simulacion(Grizzlies, Lakers)\n"
      ]
    },
    {
      "cell_type": "markdown",
      "metadata": {
        "id": "-cO9ion8CLcq"
      },
      "source": [
        "### Semifinales de conferencia"
      ]
    },
    {
      "cell_type": "code",
      "execution_count": null,
      "metadata": {
        "cellView": "form",
        "id": "7ib-RikdCQKq"
      },
      "outputs": [],
      "source": [
        "#@title Este\n",
        "\n",
        "print(Esemi1['Team'].iloc[0],'vs', Esemi2['Team'].iloc[0])\n",
        "Efinal1 = simulacion(Esemi1, Esemi2)\n",
        "print('\\n')\n",
        "print(Esemi3['Team'].iloc[0],'vs', Esemi4['Team'].iloc[0])\n",
        "Efinal2 = simulacion(Esemi3, Esemi4)"
      ]
    },
    {
      "cell_type": "code",
      "execution_count": null,
      "metadata": {
        "cellView": "form",
        "id": "jdwCPCMgCU-V"
      },
      "outputs": [],
      "source": [
        "#@title Oeste\n",
        "\n",
        "print(Wsemi1['Team'].iloc[0],'vs', Wsemi2['Team'].iloc[0])\n",
        "Wfinal1 = simulacion(Wsemi1, Wsemi2)\n",
        "print('\\n')\n",
        "print(Wsemi3['Team'].iloc[0],'vs', Wsemi4['Team'].iloc[0])\n",
        "Wfinal2 = simulacion(Wsemi3, Wsemi4)\n"
      ]
    },
    {
      "cell_type": "markdown",
      "metadata": {
        "id": "Rms0DmvZE0Zl"
      },
      "source": [
        "### Finales de conferencia"
      ]
    },
    {
      "cell_type": "code",
      "execution_count": null,
      "metadata": {
        "cellView": "form",
        "id": "1KJEgxFQE0Zl"
      },
      "outputs": [],
      "source": [
        "#@title Este\n",
        "\n",
        "print(Efinal1['Team'].iloc[0],'vs', Efinal2['Team'].iloc[0])\n",
        "Final1 = simulacion(Efinal1, Efinal2)\n"
      ]
    },
    {
      "cell_type": "code",
      "execution_count": null,
      "metadata": {
        "cellView": "form",
        "id": "fjRFaUVRE0Zm"
      },
      "outputs": [],
      "source": [
        "#@title Oeste\n",
        "\n",
        "print(Wfinal1['Team'].iloc[0],'vs', Wfinal2['Team'].iloc[0])\n",
        "Final2 = simulacion(Wfinal1, Wfinal2)\n"
      ]
    },
    {
      "cell_type": "markdown",
      "metadata": {
        "id": "CaGMzEqcFL3C"
      },
      "source": [
        "### FINAL DE LA NBA"
      ]
    },
    {
      "cell_type": "code",
      "execution_count": null,
      "metadata": {
        "id": "hOuBsl_KFPKK"
      },
      "outputs": [],
      "source": [
        "print(Final1['Team'].iloc[0],'vs', Final2['Team'].iloc[0])\n",
        "Final = simulacion(Final1, Final2)"
      ]
    },
    {
      "cell_type": "code",
      "execution_count": null,
      "metadata": {
        "cellView": "form",
        "id": "gI7dkf1tUOwb"
      },
      "outputs": [],
      "source": [
        "#@title Playoffs 2023\n",
        "\n",
        "img3 = Image.open('final.png')\n",
        "plt.figure(figsize=(10, 10))\n",
        "plt.imshow(img3)\n",
        "plt.axis('off')\n",
        "plt.show()\n",
        "\n",
        "print('https://es.wikipedia.org/wiki/Temporada_2022-23_de_la_NBA')"
      ]
    }
  ],
  "metadata": {
    "colab": {
      "provenance": []
    },
    "kernelspec": {
      "display_name": "Python 3",
      "name": "python3"
    },
    "language_info": {
      "name": "python"
    }
  },
  "nbformat": 4,
  "nbformat_minor": 0
}